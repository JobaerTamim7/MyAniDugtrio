{
 "cells": [
  {
   "cell_type": "markdown",
   "id": "db2385fa-401a-4f60-84f1-dc1b463f9928",
   "metadata": {},
   "source": [
    "This cell is for import part"
   ]
  },
  {
   "cell_type": "code",
   "execution_count": 16,
   "id": "8977f0e8-7f53-44e0-a4f1-8224ca25e4c4",
   "metadata": {},
   "outputs": [],
   "source": [
    "from selenium import webdriver\n",
    "from selenium.webdriver.common.by import By\n",
    "from selenium.webdriver.common.keys import Keys\n",
    "from selenium.webdriver.support import expected_conditions\n",
    "from selenium.webdriver.support.ui import WebDriverWait\n",
    "import json"
   ]
  },
  {
   "cell_type": "markdown",
   "id": "b04d8073-4816-47bf-8397-c8487c8c703c",
   "metadata": {},
   "source": [
    "This cell is for const purpose"
   ]
  },
  {
   "cell_type": "code",
   "execution_count": 17,
   "id": "39b2b239-5d68-4a4f-bf85-8fdea0cab24c",
   "metadata": {},
   "outputs": [],
   "source": [
    "url = 'https://myanimelist.net/topanime.php'  "
   ]
  },
  {
   "cell_type": "markdown",
   "id": "df0bff4d-1986-44ce-b8d1-c643187c1c73",
   "metadata": {},
   "source": [
    "Headless chrome setup"
   ]
  },
  {
   "cell_type": "code",
   "execution_count": 18,
   "id": "5155d6ca-4c06-41f4-a472-822d896a7759",
   "metadata": {},
   "outputs": [],
   "source": [
    "options = webdriver.ChromeOptions()\n",
    "options.add_argument('headless=new')\n",
    "\n",
    "driver = webdriver.Chrome(options=options)\n",
    "driver.get(url)"
   ]
  },
  {
   "attachments": {},
   "cell_type": "markdown",
   "id": "9a6ae0c7-bd2a-43f7-90d7-026c8e1056d0",
   "metadata": {},
   "source": [
    "Scraping web data"
   ]
  },
  {
   "cell_type": "code",
   "execution_count": 19,
   "id": "a3ee1b51-adcf-4c28-ac1d-102b521593f8",
   "metadata": {},
   "outputs": [],
   "source": [
    "try:\n",
    "    rank_data = WebDriverWait(driver,5).until(\n",
    "        expected_conditions.presence_of_all_elements_located((By.CSS_SELECTOR,'table.top-ranking-table tr.ranking-list'))\n",
    "    )[:10]\n",
    "    obj_list = []\n",
    "    for data in rank_data:\n",
    "        rank = data.find_element(By.CSS_SELECTOR,'td.rank').text\n",
    "        title = data.find_element(By.CSS_SELECTOR,'td.title h3').text\n",
    "        img_link = data.find_element(By.CSS_SELECTOR,'td.title a img').get_attribute('src')\n",
    "        anime_dict = {\n",
    "            \"rank\" : rank,\n",
    "            \"title\" : title,\n",
    "            \"img_link\" : img_link\n",
    "        }\n",
    "        obj_list.append(anime_dict)\n",
    "finally:\n",
    "    driver.quit()"
   ]
  },
  {
   "cell_type": "markdown",
   "id": "034f75b6-3618-4391-850d-82cf2fd62135",
   "metadata": {},
   "source": [
    "JSON Time !!!!!!!"
   ]
  },
  {
   "cell_type": "code",
   "execution_count": 20,
   "id": "76ea47a3-ab98-4be2-b7a2-510a27beb340",
   "metadata": {},
   "outputs": [
    {
     "name": "stdout",
     "output_type": "stream",
     "text": [
      "200 Sucess!\n"
     ]
    }
   ],
   "source": [
    "with open('all_top_anime.json','w') as file:\n",
    "    json.dump(obj_list,file,indent=4)\n",
    "\n",
    "print('200 Sucess!')"
   ]
  }
 ],
 "metadata": {
  "kernelspec": {
   "display_name": "Python 3 (ipykernel)",
   "language": "python",
   "name": "python3"
  },
  "language_info": {
   "codemirror_mode": {
    "name": "ipython",
    "version": 3
   },
   "file_extension": ".py",
   "mimetype": "text/x-python",
   "name": "python",
   "nbconvert_exporter": "python",
   "pygments_lexer": "ipython3",
   "version": "3.12.3"
  }
 },
 "nbformat": 4,
 "nbformat_minor": 5
}
