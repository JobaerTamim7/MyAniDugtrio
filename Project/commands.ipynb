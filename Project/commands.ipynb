{
 "cells": [
  {
   "cell_type": "code",
   "execution_count": 1,
   "id": "b33a8a8d-ff7c-4eb5-bce0-14b0b05bc84b",
   "metadata": {
    "scrolled": true
   },
   "outputs": [
    {
     "name": "stdout",
     "output_type": "stream",
     "text": [
      "\u001b[1;32mInstalling selenium...\u001b[0m\n",
      "\u001b[?25lResolving selenium...\n",
      "\u001b[2K\u001b[1mAdded \u001b[0m\u001b[1;32mselenium\u001b[0m to Pipfile's \u001b[33m[packages]\u001b[0m ...\n",
      "\u001b[2K✔ Installation Succeededum...\n",
      "\u001b[2K\u001b[32m⠋\u001b[0m Installing selenium...\n",
      "\u001b[1A\u001b[2K\u001b[1;33mPipfile.lock \u001b[0m\u001b[1;33m(\u001b[0m\u001b[1;33me63d8f\u001b[0m\u001b[1;33m)\u001b[0m\u001b[1;33m out of date: run `pipenv lock` to update to \u001b[0m\u001b[1;33m(\u001b[0m\u001b[1;33m398f09\u001b[0m\u001b[1;33m)\u001b[0m\u001b[1;33m...\u001b[0m\n",
      "\u001b[1mRunning\u001b[0m \u001b[33m\u001b[1m$ pipenv lock\u001b[0m \u001b[1mthen\u001b[0m \u001b[33m\u001b[1m$ pipenv sync\u001b[0m\u001b[1m.\u001b[0m\n",
      "Locking\u001b[0m \u001b[33m[packages]\u001b[0m dependencies...\u001b[0m\n",
      "\u001b[?25lBuilding requirements...\n",
      "\u001b[2KResolving dependencies....\n",
      "\u001b[2K✔ Success! Locking packages...\n",
      "\u001b[2K\u001b[32m⠦\u001b[0m Locking packages...\n",
      "\u001b[1A\u001b[2KLocking\u001b[0m \u001b[33m[dev-packages]\u001b[0m dependencies...\u001b[0m\n",
      "\u001b[1mUpdated Pipfile.lock (a6fd483e3feaa15a6e2ce939dd5a30a6e00310b846663293310f39ec3e398f09)!\u001b[0m\n",
      "\u001b[1mInstalling dependencies from Pipfile.lock (398f09)...\u001b[0m\n",
      "\u001b[32mAll dependencies are now up-to-date!\u001b[0m\n",
      "\u001b[1mInstalling dependencies from Pipfile.lock (398f09)...\u001b[0m\n"
     ]
    }
   ],
   "source": [
    "!pipenv install selenium"
   ]
  },
  {
   "cell_type": "code",
   "execution_count": 2,
   "id": "dfeb70ba-e3d6-471e-bb70-c91b78d0b313",
   "metadata": {},
   "outputs": [
    {
     "name": "stdout",
     "output_type": "stream",
     "text": [
      "\u001b[1;32mInstalling requests...\u001b[0m\n",
      "\u001b[?25lResolving requests...\n",
      "\u001b[2K\u001b[1mAdded \u001b[0m\u001b[1;32mrequests\u001b[0m to Pipfile's \u001b[33m[packages]\u001b[0m ...\n",
      "\u001b[2K✔ Installation Succeededts...\n",
      "\u001b[2K\u001b[32m⠋\u001b[0m Installing requests...\n",
      "\u001b[1A\u001b[2K\u001b[1;33mPipfile.lock \u001b[0m\u001b[1;33m(\u001b[0m\u001b[1;33m398f09\u001b[0m\u001b[1;33m)\u001b[0m\u001b[1;33m out of date: run `pipenv lock` to update to \u001b[0m\u001b[1;33m(\u001b[0m\u001b[1;33m82b13f\u001b[0m\u001b[1;33m)\u001b[0m\u001b[1;33m...\u001b[0m\n",
      "\u001b[1mRunning\u001b[0m \u001b[33m\u001b[1m$ pipenv lock\u001b[0m \u001b[1mthen\u001b[0m \u001b[33m\u001b[1m$ pipenv sync\u001b[0m\u001b[1m.\u001b[0m\n",
      "Locking\u001b[0m \u001b[33m[packages]\u001b[0m dependencies...\u001b[0m\n",
      "\u001b[?25lBuilding requirements...\n",
      "\u001b[2KResolving dependencies....\n",
      "\u001b[2K✔ Success! Locking packages...\n",
      "\u001b[2K\u001b[32m⠴\u001b[0m Locking packages...\n",
      "\u001b[1A\u001b[2KLocking\u001b[0m \u001b[33m[dev-packages]\u001b[0m dependencies...\u001b[0m\n",
      "\u001b[1mUpdated Pipfile.lock (28e7661cb8ad817666b199c67f3fe836ce874c5031244b63ff492423e182b13f)!\u001b[0m\n",
      "\u001b[1mInstalling dependencies from Pipfile.lock (82b13f)...\u001b[0m\n",
      "\u001b[32mAll dependencies are now up-to-date!\u001b[0m\n",
      "\u001b[1mInstalling dependencies from Pipfile.lock (82b13f)...\u001b[0m\n"
     ]
    }
   ],
   "source": [
    "!pipenv install requests"
   ]
  },
  {
   "cell_type": "code",
   "execution_count": null,
   "id": "fe4574d7-2580-4379-be48-63d1759f5259",
   "metadata": {},
   "outputs": [],
   "source": []
  }
 ],
 "metadata": {
  "kernelspec": {
   "display_name": "Python 3 (ipykernel)",
   "language": "python",
   "name": "python3"
  },
  "language_info": {
   "codemirror_mode": {
    "name": "ipython",
    "version": 3
   },
   "file_extension": ".py",
   "mimetype": "text/x-python",
   "name": "python",
   "nbconvert_exporter": "python",
   "pygments_lexer": "ipython3",
   "version": "3.12.3"
  }
 },
 "nbformat": 4,
 "nbformat_minor": 5
}
