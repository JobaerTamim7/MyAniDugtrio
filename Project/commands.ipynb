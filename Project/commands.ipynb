{
 "cells": [
  {
   "cell_type": "code",
   "execution_count": 1,
   "id": "b33a8a8d-ff7c-4eb5-bce0-14b0b05bc84b",
   "metadata": {
    "scrolled": true
   },
   "outputs": [
    {
     "name": "stdout",
     "output_type": "stream",
     "text": [
      "\u001b[1;32mInstalling selenium...\u001b[0m\n",
      "\u001b[?25lResolving selenium...\n",
      "\u001b[2K✔ Installation Succeeded\n",
      "\u001b[2K\u001b[32m⠋\u001b[0m Installing selenium...\n",
      "\u001b[1A\u001b[2K\u001b[1mInstalling dependencies from Pipfile.lock (82b13f)...\u001b[0m\n"
     ]
    }
   ],
   "source": [
    "!pipenv install selenium"
   ]
  },
  {
   "cell_type": "code",
   "execution_count": 2,
   "id": "dfeb70ba-e3d6-471e-bb70-c91b78d0b313",
   "metadata": {},
   "outputs": [
    {
     "name": "stdout",
     "output_type": "stream",
     "text": [
      "\u001b[1;32mInstalling requests...\u001b[0m\n",
      "\u001b[?25lResolving requests...\n",
      "\u001b[2K✔ Installation Succeeded\n",
      "\u001b[2K\u001b[32m⠋\u001b[0m Installing requests...\n",
      "\u001b[1A\u001b[2K\u001b[1mInstalling dependencies from Pipfile.lock (82b13f)...\u001b[0m\n"
     ]
    }
   ],
   "source": [
    "!pipenv install requests"
   ]
  },
  {
   "cell_type": "code",
   "execution_count": null,
   "id": "fe4574d7-2580-4379-be48-63d1759f5259",
   "metadata": {},
   "outputs": [],
   "source": []
  }
 ],
 "metadata": {
  "kernelspec": {
   "display_name": "Scrapper-6ojeZP2b",
   "language": "python",
   "name": "python3"
  },
  "language_info": {
   "codemirror_mode": {
    "name": "ipython",
    "version": 3
   },
   "file_extension": ".py",
   "mimetype": "text/x-python",
   "name": "python",
   "nbconvert_exporter": "python",
   "pygments_lexer": "ipython3",
   "version": "3.12.3"
  }
 },
 "nbformat": 4,
 "nbformat_minor": 5
}
